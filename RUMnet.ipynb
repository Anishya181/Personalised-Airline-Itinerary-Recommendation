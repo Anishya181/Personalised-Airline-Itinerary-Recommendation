{
 "cells": [
  {
   "cell_type": "code",
   "execution_count": 1,
   "id": "fbf47e95-56be-40a6-9949-fe74d5f9d660",
   "metadata": {},
   "outputs": [],
   "source": [
    "# Install necessary requirements\n",
    "\n",
    "# If you run this notebook on Google Colab, or in standalone mode, you need to install the required packages.\n",
    "# Uncomment the following lines:\n",
    "\n",
    "# !pip install choice-learn\n",
    "\n",
    "# If you run the notebook within the GitHub repository, you need to run the following lines, that can skipped otherwise:\n",
    "import os\n",
    "import sys\n",
    "\n",
    "sys.path.append(\"../../\")"
   ]
  },
  {
   "cell_type": "code",
   "execution_count": 2,
   "id": "b1cd5599-6119-48ee-8c5d-5c44f4c3f6ca",
   "metadata": {},
   "outputs": [
    {
     "name": "stderr",
     "output_type": "stream",
     "text": [
      "2025-03-24 17:35:23.023975: I tensorflow/core/util/port.cc:113] oneDNN custom operations are on. You may see slightly different numerical results due to floating-point round-off errors from different computation orders. To turn them off, set the environment variable `TF_ENABLE_ONEDNN_OPTS=0`.\n",
      "2025-03-24 17:35:23.024601: I external/local_tsl/tsl/cuda/cudart_stub.cc:32] Could not find cuda drivers on your machine, GPU will not be used.\n",
      "2025-03-24 17:35:23.026641: I external/local_tsl/tsl/cuda/cudart_stub.cc:32] Could not find cuda drivers on your machine, GPU will not be used.\n",
      "2025-03-24 17:35:23.032892: E external/local_xla/xla/stream_executor/cuda/cuda_fft.cc:479] Unable to register cuFFT factory: Attempting to register factory for plugin cuFFT when one has already been registered\n",
      "2025-03-24 17:35:23.045907: E external/local_xla/xla/stream_executor/cuda/cuda_dnn.cc:10575] Unable to register cuDNN factory: Attempting to register factory for plugin cuDNN when one has already been registered\n",
      "2025-03-24 17:35:23.045929: E external/local_xla/xla/stream_executor/cuda/cuda_blas.cc:1442] Unable to register cuBLAS factory: Attempting to register factory for plugin cuBLAS when one has already been registered\n",
      "2025-03-24 17:35:23.055262: I tensorflow/core/platform/cpu_feature_guard.cc:210] This TensorFlow binary is optimized to use available CPU instructions in performance-critical operations.\n",
      "To enable the following instructions: AVX2 AVX512F AVX512_VNNI AVX512_BF16 AVX512_FP16 AVX_VNNI AMX_TILE AMX_INT8 AMX_BF16 FMA, in other operations, rebuild TensorFlow with the appropriate compiler flags.\n",
      "2025-03-24 17:35:23.532433: W tensorflow/compiler/tf2tensorrt/utils/py_utils.cc:38] TF-TRT Warning: Could not find TensorRT\n",
      "2025-03-24 17:35:23.963049: E external/local_xla/xla/stream_executor/cuda/cuda_driver.cc:282] failed call to cuInit: CUDA_ERROR_NO_DEVICE: no CUDA-capable device is detected\n",
      "2025-03-24 17:35:23.963072: I external/local_xla/xla/stream_executor/cuda/cuda_diagnostics.cc:134] retrieving CUDA diagnostic information for host: user\n",
      "2025-03-24 17:35:23.963075: I external/local_xla/xla/stream_executor/cuda/cuda_diagnostics.cc:141] hostname: user\n",
      "2025-03-24 17:35:23.963128: I external/local_xla/xla/stream_executor/cuda/cuda_diagnostics.cc:165] libcuda reported version is: 535.183.1\n",
      "2025-03-24 17:35:23.963137: I external/local_xla/xla/stream_executor/cuda/cuda_diagnostics.cc:169] kernel reported version is: 535.183.1\n",
      "2025-03-24 17:35:23.963140: I external/local_xla/xla/stream_executor/cuda/cuda_diagnostics.cc:248] kernel version seems to match DSO: 535.183.1\n"
     ]
    }
   ],
   "source": [
    "import os\n",
    "# Remove/Add GPU use\n",
    "os.environ[\"CUDA_VISIBLE_DEVICES\"] = \"1\"\n",
    "\n",
    "import matplotlib.pyplot as plt\n",
    "import numpy as np\n",
    "import pandas as pd\n",
    "import tensorflow as tf\n",
    "\n",
    "from choice_learn.data import ChoiceDataset\n",
    "from choice_learn.models import RUMnet"
   ]
  },
  {
   "cell_type": "code",
   "execution_count": 3,
   "id": "99483c70-18bd-4c69-a72e-883f377fdae1",
   "metadata": {},
   "outputs": [
    {
     "data": {
      "text/html": [
       "<div>\n",
       "<style scoped>\n",
       "    .dataframe tbody tr th:only-of-type {\n",
       "        vertical-align: middle;\n",
       "    }\n",
       "\n",
       "    .dataframe tbody tr th {\n",
       "        vertical-align: top;\n",
       "    }\n",
       "\n",
       "    .dataframe thead th {\n",
       "        text-align: right;\n",
       "    }\n",
       "</style>\n",
       "<table border=\"1\" class=\"dataframe\">\n",
       "  <thead>\n",
       "    <tr style=\"text-align: right;\">\n",
       "      <th></th>\n",
       "      <th>individual</th>\n",
       "      <th>alternative</th>\n",
       "      <th>choice</th>\n",
       "      <th>officeID</th>\n",
       "      <th>depWeekDay</th>\n",
       "      <th>OD</th>\n",
       "      <th>fAirline</th>\n",
       "      <th>staySaturday</th>\n",
       "      <th>stayDurationMinutes</th>\n",
       "      <th>totalPrice</th>\n",
       "      <th>totalTripDurationMinutes</th>\n",
       "      <th>dtd</th>\n",
       "      <th>nAirlines</th>\n",
       "      <th>nFlights</th>\n",
       "      <th>isContinental</th>\n",
       "      <th>isDomestic</th>\n",
       "      <th>outDepTime_sin</th>\n",
       "      <th>outDepTime_cos</th>\n",
       "      <th>outArrTime_sin</th>\n",
       "      <th>outArrTime_cos</th>\n",
       "    </tr>\n",
       "  </thead>\n",
       "  <tbody>\n",
       "    <tr>\n",
       "      <th>0</th>\n",
       "      <td>91</td>\n",
       "      <td>19</td>\n",
       "      <td>1</td>\n",
       "      <td>1</td>\n",
       "      <td>2</td>\n",
       "      <td>22</td>\n",
       "      <td>36</td>\n",
       "      <td>1.0</td>\n",
       "      <td>18660.0</td>\n",
       "      <td>230.029999</td>\n",
       "      <td>735.0</td>\n",
       "      <td>23.0</td>\n",
       "      <td>1.0</td>\n",
       "      <td>4.0</td>\n",
       "      <td>1.0</td>\n",
       "      <td>0.0</td>\n",
       "      <td>0.737277</td>\n",
       "      <td>-0.675590</td>\n",
       "      <td>-0.854912</td>\n",
       "      <td>0.518773</td>\n",
       "    </tr>\n",
       "    <tr>\n",
       "      <th>1</th>\n",
       "      <td>91</td>\n",
       "      <td>20</td>\n",
       "      <td>0</td>\n",
       "      <td>1</td>\n",
       "      <td>2</td>\n",
       "      <td>22</td>\n",
       "      <td>36</td>\n",
       "      <td>1.0</td>\n",
       "      <td>18235.0</td>\n",
       "      <td>230.029999</td>\n",
       "      <td>1160.0</td>\n",
       "      <td>23.0</td>\n",
       "      <td>1.0</td>\n",
       "      <td>4.0</td>\n",
       "      <td>1.0</td>\n",
       "      <td>0.0</td>\n",
       "      <td>0.737277</td>\n",
       "      <td>-0.675590</td>\n",
       "      <td>-0.854912</td>\n",
       "      <td>0.518773</td>\n",
       "    </tr>\n",
       "    <tr>\n",
       "      <th>2</th>\n",
       "      <td>91</td>\n",
       "      <td>21</td>\n",
       "      <td>0</td>\n",
       "      <td>1</td>\n",
       "      <td>2</td>\n",
       "      <td>22</td>\n",
       "      <td>30</td>\n",
       "      <td>1.0</td>\n",
       "      <td>17855.0</td>\n",
       "      <td>247.809998</td>\n",
       "      <td>920.0</td>\n",
       "      <td>24.0</td>\n",
       "      <td>1.0</td>\n",
       "      <td>4.0</td>\n",
       "      <td>1.0</td>\n",
       "      <td>0.0</td>\n",
       "      <td>-0.999762</td>\n",
       "      <td>-0.021815</td>\n",
       "      <td>-0.976296</td>\n",
       "      <td>0.216440</td>\n",
       "    </tr>\n",
       "    <tr>\n",
       "      <th>3</th>\n",
       "      <td>91</td>\n",
       "      <td>22</td>\n",
       "      <td>0</td>\n",
       "      <td>1</td>\n",
       "      <td>2</td>\n",
       "      <td>22</td>\n",
       "      <td>30</td>\n",
       "      <td>1.0</td>\n",
       "      <td>17855.0</td>\n",
       "      <td>247.809998</td>\n",
       "      <td>1135.0</td>\n",
       "      <td>24.0</td>\n",
       "      <td>1.0</td>\n",
       "      <td>4.0</td>\n",
       "      <td>1.0</td>\n",
       "      <td>0.0</td>\n",
       "      <td>-0.999762</td>\n",
       "      <td>-0.021815</td>\n",
       "      <td>-0.402747</td>\n",
       "      <td>0.915311</td>\n",
       "    </tr>\n",
       "    <tr>\n",
       "      <th>4</th>\n",
       "      <td>91</td>\n",
       "      <td>23</td>\n",
       "      <td>0</td>\n",
       "      <td>1</td>\n",
       "      <td>2</td>\n",
       "      <td>22</td>\n",
       "      <td>30</td>\n",
       "      <td>1.0</td>\n",
       "      <td>280.0</td>\n",
       "      <td>247.809998</td>\n",
       "      <td>1135.0</td>\n",
       "      <td>24.0</td>\n",
       "      <td>1.0</td>\n",
       "      <td>4.0</td>\n",
       "      <td>1.0</td>\n",
       "      <td>0.0</td>\n",
       "      <td>-0.999762</td>\n",
       "      <td>-0.021815</td>\n",
       "      <td>-0.976296</td>\n",
       "      <td>0.216440</td>\n",
       "    </tr>\n",
       "  </tbody>\n",
       "</table>\n",
       "</div>"
      ],
      "text/plain": [
       "   individual  alternative  choice  officeID  depWeekDay  OD  fAirline  \\\n",
       "0          91           19       1         1           2  22        36   \n",
       "1          91           20       0         1           2  22        36   \n",
       "2          91           21       0         1           2  22        30   \n",
       "3          91           22       0         1           2  22        30   \n",
       "4          91           23       0         1           2  22        30   \n",
       "\n",
       "   staySaturday  stayDurationMinutes  totalPrice  totalTripDurationMinutes  \\\n",
       "0           1.0              18660.0  230.029999                     735.0   \n",
       "1           1.0              18235.0  230.029999                    1160.0   \n",
       "2           1.0              17855.0  247.809998                     920.0   \n",
       "3           1.0              17855.0  247.809998                    1135.0   \n",
       "4           1.0                280.0  247.809998                    1135.0   \n",
       "\n",
       "    dtd  nAirlines  nFlights  isContinental  isDomestic  outDepTime_sin  \\\n",
       "0  23.0        1.0       4.0            1.0         0.0        0.737277   \n",
       "1  23.0        1.0       4.0            1.0         0.0        0.737277   \n",
       "2  24.0        1.0       4.0            1.0         0.0       -0.999762   \n",
       "3  24.0        1.0       4.0            1.0         0.0       -0.999762   \n",
       "4  24.0        1.0       4.0            1.0         0.0       -0.999762   \n",
       "\n",
       "   outDepTime_cos  outArrTime_sin  outArrTime_cos  \n",
       "0       -0.675590       -0.854912        0.518773  \n",
       "1       -0.675590       -0.854912        0.518773  \n",
       "2       -0.021815       -0.976296        0.216440  \n",
       "3       -0.021815       -0.402747        0.915311  \n",
       "4       -0.021815       -0.976296        0.216440  "
      ]
     },
     "execution_count": 3,
     "metadata": {},
     "output_type": "execute_result"
    }
   ],
   "source": [
    "dataset = pd.read_csv(\"data_full_anonym.csv\")\n",
    "dataset.head()"
   ]
  },
  {
   "cell_type": "code",
   "execution_count": 4,
   "id": "36408c41-2567-4ee7-96f5-ddf452b15862",
   "metadata": {},
   "outputs": [],
   "source": [
    "dataset[[\"officeID\", \"OD\"]] = dataset[[\"officeID\", \"OD\"]].astype(np.float32)"
   ]
  },
  {
   "cell_type": "code",
   "execution_count": 5,
   "id": "8464340d-ce69-47ef-8e5c-e2bb6e6b5f2c",
   "metadata": {},
   "outputs": [],
   "source": [
    "from choice_learn.data import ChoiceDataset\n",
    "\n",
    "dataset = ChoiceDataset.from_single_long_df(\n",
    "    df=dataset,\n",
    "    shared_features_columns=[\"officeID\", \"OD\"],\n",
    "    items_features_columns=[\"fAirline\", \"staySaturday\", \"stayDurationMinutes\", \"totalPrice\",\n",
    "            \"totalTripDurationMinutes\", \"dtd\", \"nAirlines\", \"nFlights\", \"depWeekDay\",\n",
    "            \"isContinental\", \"isDomestic\", \"outDepTime_sin\", \"outDepTime_cos\",\n",
    "            \"outArrTime_sin\", \"outArrTime_cos\"],\n",
    "    items_id_column=\"alternative\",\n",
    "    choices_id_column=\"individual\",\n",
    "    choices_column=\"choice\",\n",
    "    choice_format=\"one_zero\"\n",
    ")\n"
   ]
  },
  {
   "cell_type": "code",
   "execution_count": 6,
   "id": "91c1f10a-3072-4f62-8755-e5e093542829",
   "metadata": {},
   "outputs": [],
   "source": [
    "model_args = {\n",
    "    \"num_products_features\": 15,\n",
    "    \"num_customer_features\": 2,\n",
    "    \"width_eps_x\": 20,\n",
    "    \"depth_eps_x\": 5,\n",
    "    \"heterogeneity_x\": 10,\n",
    "    \"width_eps_z\": 20,\n",
    "    \"depth_eps_z\": 5,\n",
    "    \"heterogeneity_z\": 10,\n",
    "    \"width_u\": 20,\n",
    "    \"depth_u\": 5,\n",
    "    \"optimizer\": \"Adam\",\n",
    "    \"lr\": 0.0002,\n",
    "    \"logmin\": 1e-10,\n",
    "    \"label_smoothing\": 0.02,\n",
    "    \"callbacks\": [],\n",
    "    \"epochs\": 100,\n",
    "    \"batch_size\": 32,\n",
    "    \"tol\": 0,\n",
    "}"
   ]
  },
  {
   "cell_type": "code",
   "execution_count": 7,
   "id": "dc48b024-bd8b-4787-aced-c905d384aee0",
   "metadata": {},
   "outputs": [
    {
     "name": "stderr",
     "output_type": "stream",
     "text": [
      "WARNING:root:Some choices never happen in the dataset: {98, 99, 79}\n",
      "Epoch 99 Train Loss 2.5985: 100%|████| 100/100 [2:39:51<00:00, 95.91s/it]\n",
      "WARNING:root:Some choices never happen in the dataset: {99, 92}\n"
     ]
    },
    {
     "name": "stdout",
     "output_type": "stream",
     "text": [
      "[<tf.Tensor: shape=(), dtype=float32, numpy=2.3434737>]\n"
     ]
    },
    {
     "name": "stderr",
     "output_type": "stream",
     "text": [
      "Epoch 99 Train Loss 2.6013: 100%|████| 100/100 [2:32:13<00:00, 91.33s/it]\n",
      "WARNING:root:Some choices never happen in the dataset: {83, 85}\n"
     ]
    },
    {
     "name": "stdout",
     "output_type": "stream",
     "text": [
      "[<tf.Tensor: shape=(), dtype=float32, numpy=2.3434737>, <tf.Tensor: shape=(), dtype=float32, numpy=2.3250525>]\n"
     ]
    },
    {
     "name": "stderr",
     "output_type": "stream",
     "text": [
      "Epoch 99 Train Loss 2.6064: 100%|████| 100/100 [2:35:13<00:00, 93.14s/it]\n",
      "WARNING:root:Some choices never happen in the dataset: {85}\n"
     ]
    },
    {
     "name": "stdout",
     "output_type": "stream",
     "text": [
      "[<tf.Tensor: shape=(), dtype=float32, numpy=2.3434737>, <tf.Tensor: shape=(), dtype=float32, numpy=2.3250525>, <tf.Tensor: shape=(), dtype=float32, numpy=2.305025>]\n"
     ]
    },
    {
     "name": "stderr",
     "output_type": "stream",
     "text": [
      "Epoch 99 Train Loss 2.5924: 100%|████| 100/100 [2:34:57<00:00, 92.97s/it]\n",
      "WARNING:root:Some choices never happen in the dataset: {89, 81}\n"
     ]
    },
    {
     "name": "stdout",
     "output_type": "stream",
     "text": [
      "[<tf.Tensor: shape=(), dtype=float32, numpy=2.3434737>, <tf.Tensor: shape=(), dtype=float32, numpy=2.3250525>, <tf.Tensor: shape=(), dtype=float32, numpy=2.305025>, <tf.Tensor: shape=(), dtype=float32, numpy=2.3142292>]\n"
     ]
    },
    {
     "name": "stderr",
     "output_type": "stream",
     "text": [
      "Epoch 99 Train Loss 2.5927: 100%|████| 100/100 [2:35:48<00:00, 93.49s/it]\n"
     ]
    },
    {
     "name": "stdout",
     "output_type": "stream",
     "text": [
      "[<tf.Tensor: shape=(), dtype=float32, numpy=2.3434737>, <tf.Tensor: shape=(), dtype=float32, numpy=2.3250525>, <tf.Tensor: shape=(), dtype=float32, numpy=2.305025>, <tf.Tensor: shape=(), dtype=float32, numpy=2.3142292>, <tf.Tensor: shape=(), dtype=float32, numpy=2.3102>]\n"
     ]
    }
   ],
   "source": [
    "indexes = np.random.permutation(list(range(len(dataset))))\n",
    "\n",
    "fit_losses = []\n",
    "test_eval = []\n",
    "for i in range(5):\n",
    "    test_indexes = indexes[int(len(indexes) * 0.2 * i):int(len(indexes) * 0.2 * (i + 1))]\n",
    "    train_indexes = np.concatenate([indexes[:int(len(indexes) * 0.2 * i)],\n",
    "                                    indexes[int(len(indexes) * 0.2 * (i + 1)):]],\n",
    "                                   axis=0)\n",
    "\n",
    "    train_dataset = dataset[train_indexes]\n",
    "    test_dataset = dataset[test_indexes]\n",
    "\n",
    "    model = RUMnet(**model_args)\n",
    "    model.instantiate()\n",
    "\n",
    "    # print(train_dataset)\n",
    "    # print(test_dataset)\n",
    "    \n",
    "    losses = model.fit(train_dataset, val_dataset=test_dataset)\n",
    "    probas = model.predict_probas(test_dataset)\n",
    "    # eval = tf.keras.losses.CategoricalCrossentropy(from_logits=False)(y_pred=model.predict_probas(test_dataset), y_true=tf.one_hot(test_dataset.choices, 3))\n",
    "    num_classes = model.predict_probas(test_dataset).shape[1]  # Get correct class count\n",
    "    eval = tf.keras.losses.CategoricalCrossentropy(from_logits=False)(\n",
    "        y_pred=model.predict_probas(test_dataset), \n",
    "        y_true=tf.one_hot(test_dataset.choices, num_classes)\n",
    "    )\n",
    "    test_eval.append(eval)\n",
    "    print(test_eval)\n",
    "\n",
    "    fit_losses.append(losses)"
   ]
  },
  {
   "cell_type": "code",
   "execution_count": 8,
   "id": "dcbc4a66-5819-4f4b-9bd5-d123fa924129",
   "metadata": {},
   "outputs": [],
   "source": [
    "fit_losses_copy = fit_losses\n",
    "test_dataset_copy = test_dataset\n",
    "model_copy = model"
   ]
  },
  {
   "cell_type": "code",
   "execution_count": 9,
   "id": "2b81257a-2560-46aa-9b22-9dfb59c52603",
   "metadata": {},
   "outputs": [
    {
     "data": {
      "text/plain": [
       "<matplotlib.legend.Legend at 0x7f3aa3f2ab10>"
      ]
     },
     "execution_count": 9,
     "metadata": {},
     "output_type": "execute_result"
    },
    {
     "data": {
      "image/png": "[encoded data removed]",
      "text/plain": [
       "<Figure size 640x480 with 1 Axes>"
      ]
     },
     "metadata": {},
     "output_type": "display_data"
    }
   ],
   "source": [
    "cmap = plt.cm.coolwarm\n",
    "colors = [cmap(j / 4) for j in range(5)]\n",
    "for i in range(len(fit_losses)):\n",
    "    plt.plot(fit_losses[i][\"train_loss\"], c=colors[i], linestyle=\"--\")\n",
    "    plt.plot(fit_losses[i][\"test_loss\"], label=f\"fold {i}\", c=colors[i])\n",
    "plt.legend()"
   ]
  },
  {
   "cell_type": "code",
   "execution_count": 10,
   "id": "04346e65-5166-4717-ad80-83cd840b42f7",
   "metadata": {},
   "outputs": [
    {
     "data": {
      "text/plain": [
       "<tf.Tensor: shape=(), dtype=float32, numpy=2.3102176>"
      ]
     },
     "execution_count": 10,
     "metadata": {},
     "output_type": "execute_result"
    }
   ],
   "source": [
    "model.evaluate(test_dataset)"
   ]
  },
  {
   "cell_type": "code",
   "execution_count": 11,
   "id": "6dcaad42-13d2-415f-a166-b96e7d0c8e24",
   "metadata": {},
   "outputs": [
    {
     "name": "stdout",
     "output_type": "stream",
     "text": [
      "Average LogLikeliHood on test: 2.319596\n"
     ]
    }
   ],
   "source": [
    "print(\"Average LogLikeliHood on test:\", np.mean(test_eval))"
   ]
  },
  {
   "cell_type": "code",
   "execution_count": 12,
   "id": "148454db-a1a3-4563-af35-45a31fa94e76",
   "metadata": {},
   "outputs": [
    {
     "name": "stdout",
     "output_type": "stream",
     "text": [
      "Top-1 Accuracy: 0.2691797967898689\n"
     ]
    }
   ],
   "source": [
    "y_true = test_dataset.choices  # True labels\n",
    "y_pred = model.predict_probas(test_dataset)  # Predicted probabilities\n",
    "top1_preds = np.argmax(y_pred, axis=1)  # Get index of max probability\n",
    "top1_acc = np.mean(top1_preds == y_true)  # Compute accuracy\n",
    "print(\"Top-1 Accuracy:\", top1_acc)"
   ]
  },
  {
   "cell_type": "code",
   "execution_count": 13,
   "id": "e057fccb-b1b9-4bb3-bac9-173b7d245196",
   "metadata": {},
   "outputs": [
    {
     "name": "stdout",
     "output_type": "stream",
     "text": [
      "Top-5 Accuracy: 0.6717714622294213\n"
     ]
    }
   ],
   "source": [
    "top5_preds = np.argsort(y_pred, axis=1)[:, -5:]  # Get indices of top 5 predictions\n",
    "top5_acc = np.mean([y_true[i] in top5_preds[i] for i in range(len(y_true))])\n",
    "print(\"Top-5 Accuracy:\", top5_acc)"
   ]
  }
 ],
 "metadata": {
  "kernelspec": {
   "display_name": "Python 3 (ipykernel)",
   "language": "python",
   "name": "python3"
  },
  "language_info": {
   "codemirror_mode": {
    "name": "ipython",
    "version": 3
   },
   "file_extension": ".py",
   "mimetype": "text/x-python",
   "name": "python",
   "nbconvert_exporter": "python",
   "pygments_lexer": "ipython3",
   "version": "3.11.11"
  }
 },
 "nbformat": 4,
 "nbformat_minor": 5
}
